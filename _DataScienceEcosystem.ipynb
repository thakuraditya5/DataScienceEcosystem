{
 "cells": [
  {
   "cell_type": "markdown",
   "id": "b9263d54-afca-40bb-a793-6427f29142f5",
   "metadata": {},
   "source": [
    "#This is H1 Heading\n",
    "\n",
    "Data Science Tools and Ecosystem"
   ]
  },
  {
   "cell_type": "markdown",
   "id": "ced3a936-2027-4e80-bd13-58944492b08b",
   "metadata": {
    "tags": []
   },
   "source": [
    "**Objectives:**\n",
    "\n",
    "- List popular languages for Data Science\n",
    "- Identify key libraries used in Data Science\n",
    "- Data Arthmetics\n",
    "- Author name\n"
   ]
  },
  {
   "cell_type": "markdown",
   "id": "c119510e-4ff5-4bb1-ac55-be208552bc97",
   "metadata": {},
   "source": [
    "In this notebook, Data Science Tools and Ecosystem are summarized."
   ]
  },
  {
   "cell_type": "markdown",
   "id": "e0e11d07-bf45-4b7b-a9b7-a302a20823a3",
   "metadata": {
    "tags": []
   },
   "source": [
    "Some of the popular languages that Data Scientists use are:\n",
    "\n",
    "1.Python\n",
    "\n",
    "2.Java\n",
    "\n",
    "3.R"
   ]
  },
  {
   "cell_type": "markdown",
   "id": "98cbdd1c-1754-46c9-9080-c601f4844899",
   "metadata": {},
   "source": [
    "Some of the commonly used libraries used by Data Scientists include:\n",
    "\n",
    "1.Pandas\n",
    "\n",
    "2.NumPy\n",
    "\n",
    "3.Matplotlib\n",
    "\n",
    "4.Seaborn\n"
   ]
  },
  {
   "cell_type": "markdown",
   "id": "1b8fdc30-9499-4805-902a-74f264e3ca1d",
   "metadata": {},
   "source": [
    "Table of Data Science Tools\n",
    "\n",
    "| Data Science Tools   |\n",
    "|----------------------|\n",
    "| Jupyter Notebook  |\n",
    "| RStudio           |\n",
    "| PyCharm           |\n",
    "| VS Code           |"
   ]
  },
  {
   "cell_type": "markdown",
   "id": "73bab44e-b3db-437b-81a7-5d16c3439f0f",
   "metadata": {},
   "source": [
    "###Below are a few examples of evaluating arithmetic expressions in Python"
   ]
  },
  {
   "cell_type": "code",
   "execution_count": 3,
   "id": "ba610cb4-09c1-422b-bfd7-13ebd9c09ff1",
   "metadata": {
    "tags": []
   },
   "outputs": [
    {
     "data": {
      "text/plain": [
       "17"
      ]
     },
     "execution_count": 3,
     "metadata": {},
     "output_type": "execute_result"
    }
   ],
   "source": [
    "#This a simple arithmetic expression to mutiply then add integers\n",
    "(3*4)+5"
   ]
  },
  {
   "cell_type": "code",
   "execution_count": 5,
   "id": "49828cf7-5700-4ed2-8ad7-c4a0d257d1fd",
   "metadata": {
    "tags": []
   },
   "outputs": [
    {
     "name": "stdout",
     "output_type": "stream",
     "text": [
      "3.3333333333333335\n"
     ]
    }
   ],
   "source": [
    "#This will convert 200 minutes to hours by diving by 60\n",
    "mins = 200\n",
    "hrs = mins/60\n",
    "print(hrs)\n"
   ]
  },
  {
   "cell_type": "markdown",
   "id": "46578e97-15c2-4603-8ade-bf5377f1cce8",
   "metadata": {},
   "source": [
    "##Author\n",
    "\n",
    "Aditya Singh Thakur"
   ]
  },
  {
   "cell_type": "code",
   "execution_count": null,
   "id": "6cac6827-70e0-4ccb-9e6c-fc9e68f949b0",
   "metadata": {},
   "outputs": [],
   "source": []
  }
 ],
 "metadata": {
  "kernelspec": {
   "display_name": "Python",
   "language": "python",
   "name": "conda-env-python-py"
  },
  "language_info": {
   "codemirror_mode": {
    "name": "ipython",
    "version": 3
   },
   "file_extension": ".py",
   "mimetype": "text/x-python",
   "name": "python",
   "nbconvert_exporter": "python",
   "pygments_lexer": "ipython3",
   "version": "3.7.12"
  }
 },
 "nbformat": 4,
 "nbformat_minor": 5
}
